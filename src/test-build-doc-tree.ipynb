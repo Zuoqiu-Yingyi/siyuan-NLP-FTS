{
 "cells": [
  {
   "cell_type": "code",
   "execution_count": 1,
   "id": "6220fec7-73fb-4100-8462-b34b98021840",
   "metadata": {},
   "outputs": [],
   "source": [
    "import json\n",
    "\n",
    "import pkg.env as env\n",
    "\n",
    "from pkg.api import API\n",
    "from pkg.notebook import Notebook, Notebooks\n",
    "from pkg.client import Client\n",
    "from pkg.tree import Tree"
   ]
  },
  {
   "cell_type": "code",
   "execution_count": 2,
   "id": "5fecbf09-092a-4daa-8ae7-5d6bb8d6f2bc",
   "metadata": {},
   "outputs": [],
   "source": [
    "client = Client(\n",
    "    token=env.token,\n",
    "    host=env.host,\n",
    "    port=env.port,\n",
    "    ssl=env.ssl,\n",
    "    proxies=env.proxies,\n",
    ")"
   ]
  },
  {
   "cell_type": "code",
   "execution_count": 3,
   "id": "fda9054b-97a4-491c-bb29-7ac7e5a1791c",
   "metadata": {},
   "outputs": [],
   "source": [
    "notebooks = client.getNotebooks()"
   ]
  },
  {
   "cell_type": "code",
   "execution_count": 4,
   "id": "914a1541-3a59-43c1-9428-25d8de237478",
   "metadata": {},
   "outputs": [],
   "source": [
    "tree = Tree(\n",
    "    client=client,\n",
    "    notebooks=notebooks,\n",
    ")"
   ]
  },
  {
   "cell_type": "code",
   "execution_count": 5,
   "id": "c6a995fb-cad5-4981-8712-29f54181b7a3",
   "metadata": {},
   "outputs": [],
   "source": [
    "tree.buildDocTree(\n",
    "    '20210808180117-czj9bvb',  # notebook 用户指南\n",
    "    '20221223102407-2a0djn8',  # doc 课程论文\n",
    ")"
   ]
  },
  {
   "cell_type": "code",
   "execution_count": 6,
   "id": "221a6695-8754-44fa-be5b-6c14b610176e",
   "metadata": {},
   "outputs": [],
   "source": [
    "# tree._map"
   ]
  },
  {
   "cell_type": "code",
   "execution_count": 7,
   "id": "9bb124c0-3240-453a-a692-9d6602ba8c6a",
   "metadata": {
    "tags": []
   },
   "outputs": [
    {
     "data": {
      "text/plain": [
       "- root\n",
       "| - 思源笔记用户指南\n",
       "| | - 数据安全\n",
       "| | - 常见问题\n",
       "| | - 致谢\n",
       "| | - 隐私政策和用户协议\n",
       "| | - 请从这里开始\n",
       "| | | - 搜索进阶\n",
       "| | | | - 数据库表\n",
       "| | | | - 类型过滤\n",
       "| | | | - 查询语法\n",
       "| | | - 内容块\n",
       "| | | | - 在内容块中遨游\n",
       "| | | | - 引用内容块\n",
       "| | | | - 内容块属性\n",
       "| | | | - 什么是内容块\n",
       "| | | | - 内容块类型\n",
       "| | | | - 嵌入内容块\n",
       "| | | | - 文档块和标题块的转换\n",
       "| | | - 通用操作\n",
       "| | | | - 工作空间\n",
       "| | | | - Docker 伺服\n",
       "| | | | - PDF 标注\n",
       "| | | | - 模板片段\n",
       "| | | | - 超链接\n",
       "| | | | - 在浏览器上使用\n",
       "| | | | - 剪藏\n",
       "| | | | - 资源文件\n",
       "| | | | - 书签和标签\n",
       "| | | | - 日记\n",
       "| | | | - 内核参数\n",
       "| | | | - 虚拟引用\n",
       "| | | | - 内核 API\n",
       "| | | | - 窗口和页签\n",
       "| | | | - 数据历史\n",
       "| | | | - 导入和导出\n",
       "| | | | - 挂件\n",
       "| | | | - 分享文档\n",
       "| | | | - 快捷键\n",
       "| | | | - 闪卡\n",
       "| | | - 自定义外观\n",
       "| | | | - 主题\n",
       "| | | | - 图标\n",
       "| | | - 云端\n",
       "| | | | - 微信提醒\n",
       "| | | | - 存储空间\n",
       "| | | | - 限制\n",
       "| | | | - 数据备份\n",
       "| | | | - 资源文件图床\n",
       "| | | | - 收集箱\n",
       "| | | | - 数据同步\n",
       "| | | - 编辑器\n",
       "| | | | - 通过标题列表概述\n",
       "| | | | - 优化排版\n",
       "| | | | - 排版元素\n",
       "| - 课程\n",
       "| | - 课程论文\n",
       "| | | - 环境部署\n",
       "| | | - 参考项目\n",
       "| | | - 技术方案"
      ]
     },
     "execution_count": 7,
     "metadata": {},
     "output_type": "execute_result"
    }
   ],
   "source": [
    "# print(json.dumps(tree.__dict__(), indent=2, ensure_ascii=False))\n",
    "tree"
   ]
  },
  {
   "cell_type": "code",
   "execution_count": null,
   "id": "5d36c287-1f1b-4124-8d15-6ccd86124971",
   "metadata": {},
   "outputs": [],
   "source": []
  }
 ],
 "metadata": {
  "kernelspec": {
   "display_name": "Python 3.9.16 (nlp)",
   "language": "python",
   "name": "nlp"
  },
  "language_info": {
   "codemirror_mode": {
    "name": "ipython",
    "version": 3
   },
   "file_extension": ".py",
   "mimetype": "text/x-python",
   "name": "python",
   "nbconvert_exporter": "python",
   "pygments_lexer": "ipython3",
   "version": "3.9.16"
  }
 },
 "nbformat": 4,
 "nbformat_minor": 5
}
