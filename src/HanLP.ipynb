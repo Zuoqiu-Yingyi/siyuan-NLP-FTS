{
 "cells": [
  {
   "cell_type": "code",
   "execution_count": 1,
   "id": "c6635a4b-08e6-441d-b753-64335560b8cd",
   "metadata": {},
   "outputs": [
    {
     "data": {
      "text/plain": [
       "{'CTB9_CON_ELECTRA_SMALL': 'https://file.hankcs.com/hanlp/constituency/ctb9_con_electra_small_20220215_230116.zip',\n",
       " 'CTB9_CON_FULL_TAG_ELECTRA_SMALL': 'https://file.hankcs.com/hanlp/constituency/ctb9_full_tag_con_electra_small_20220118_103119.zip',\n",
       " 'CTB9_CON_FULL_TAG_ERNIE_GRAM': 'http://download.hanlp.com/constituency/extra/ctb9_full_tag_con_ernie_20220331_121430.zip'}"
      ]
     },
     "execution_count": 1,
     "metadata": {},
     "output_type": "execute_result"
    }
   ],
   "source": [
    "import hanlp\n",
    "hanlp.pretrained.constituency.ALL"
   ]
  },
  {
   "cell_type": "code",
   "execution_count": 2,
   "id": "8fc7b0ad-59d0-41ec-a21f-f71c21041a51",
   "metadata": {},
   "outputs": [
    {
     "data": {
      "text/plain": [
       "['ALL',\n",
       " 'CTB9_CON_ELECTRA_SMALL',\n",
       " 'CTB9_CON_FULL_TAG_ELECTRA_SMALL',\n",
       " 'CTB9_CON_FULL_TAG_ERNIE_GRAM',\n",
       " 'HANLP_URL',\n",
       " '__builtins__',\n",
       " '__cached__',\n",
       " '__doc__',\n",
       " '__file__',\n",
       " '__loader__',\n",
       " '__name__',\n",
       " '__package__',\n",
       " '__spec__']"
      ]
     },
     "execution_count": 2,
     "metadata": {},
     "output_type": "execute_result"
    }
   ],
   "source": [
    "dir(hanlp.pretrained.constituency)"
   ]
  },
  {
   "cell_type": "code",
   "execution_count": 3,
   "id": "ff2a7de8-c12b-4655-b284-6cde36d1443e",
   "metadata": {},
   "outputs": [
    {
     "name": "stderr",
     "output_type": "stream",
     "text": [
      "/home/lyl/miniconda3/envs/nlp/lib/python3.9/site-packages/tqdm/auto.py:22: TqdmWarning: IProgress not found. Please update jupyter and ipywidgets. See https://ipywidgets.readthedocs.io/en/stable/user_install.html\n",
      "  from .autonotebook import tqdm as notebook_tqdm\n",
      "Downloading https://file.hankcs.com/hanlp/utils/char_table_20210602_202632.json.zip to /home/lyl/.hanlp/utils/char_table_20210602_202632.json.zip\n",
      "100%  26.7 KiB  26.7 KiB/s ETA:  0 s [=========================================]\n",
      "Decompressing /home/lyl/.hanlp/utils/char_table_20210602_202632.json.zip to /home/lyl/.hanlp/utils\n",
      "                                             \r"
     ]
    }
   ],
   "source": [
    "con = hanlp.load('CTB9_CON_ELECTRA_SMALL')"
   ]
  },
  {
   "cell_type": "code",
   "execution_count": 4,
   "id": "b548818f-0119-4b40-abd8-bb72c70c40d3",
   "metadata": {},
   "outputs": [
    {
     "name": "stderr",
     "output_type": "stream",
     "text": [
      "Decompressing /home/lyl/.hanlp/constituency/ctb9_full_tag_con_electra_small_20220118_103119.zip to /home/lyl/.hanlp/constituency\n",
      "                                             \r"
     ]
    }
   ],
   "source": [
    "con = hanlp.load('CTB9_CON_FULL_TAG_ELECTRA_SMALL')"
   ]
  },
  {
   "cell_type": "code",
   "execution_count": 5,
   "id": "40fd5988-ae08-4b13-a6f7-21fe42d9cfde",
   "metadata": {},
   "outputs": [
    {
     "name": "stderr",
     "output_type": "stream",
     "text": [
      "Downloading http://download.hanlp.com/constituency/extra/ctb9_full_tag_con_ernie_20220331_121430.zip to /home/lyl/.hanlp/thirdparty/download.hanlp.com/constituency/extra/ctb9_full_tag_con_ernie_20220331_121430.zip\n",
      "100% 406.7 MiB   2.1 MiB/s ETA:  0 s [=========================================]\n",
      "Decompressing /home/lyl/.hanlp/thirdparty/download.hanlp.com/constituency/extra/ctb9_full_tag_con_ernie_20220331_121430.zip to /home/lyl/.hanlp/thirdparty/download.hanlp.com/constituency/extra\n",
      "Downloading (…)lve/main/config.json: 100%|████████████████████████████████████████████████████████████████| 498/498 [00:00<00:00, 78.8kB/s]\n",
      "Downloading (…)solve/main/vocab.txt: 100%|█████████████████████████████████████████████████████████████| 79.5k/79.5k [00:00<00:00, 179kB/s]\n",
      "                                             \r"
     ]
    }
   ],
   "source": [
    "con = hanlp.load('CTB9_CON_FULL_TAG_ERNIE_GRAM')"
   ]
  },
  {
   "cell_type": "code",
   "execution_count": 8,
   "id": "55025d10-6652-4f2a-b329-d3b0530bfbae",
   "metadata": {},
   "outputs": [
    {
     "data": {
      "text/plain": [
       "{'SIGHAN2005_PKU_CONVSEG': 'https://file.hankcs.com/hanlp/tok/sighan2005-pku-convseg_20200110_153722.zip',\n",
       " 'SIGHAN2005_MSR_CONVSEG': 'https://file.hankcs.com/hanlp/tok/convseg-msr-nocrf-noembed_20200110_153524.zip',\n",
       " 'CTB6_CONVSEG': 'https://file.hankcs.com/hanlp/tok/ctb6_convseg_nowe_nocrf_20200110_004046.zip',\n",
       " 'PKU_NAME_MERGED_SIX_MONTHS_CONVSEG': 'https://file.hankcs.com/hanlp/tok/pku98_6m_conv_ngram_20200110_134736.zip',\n",
       " 'LARGE_ALBERT_BASE': 'https://file.hankcs.com/hanlp/tok/large_corpus_cws_albert_base_20211228_160926.zip',\n",
       " 'SIGHAN2005_PKU_BERT_BASE_ZH': 'https://file.hankcs.com/hanlp/tok/sighan2005_pku_bert_base_zh_20201231_141130.zip',\n",
       " 'COARSE_ELECTRA_SMALL_ZH': 'https://file.hankcs.com/hanlp/tok/coarse_electra_small_20220616_012050.zip',\n",
       " 'FINE_ELECTRA_SMALL_ZH': 'https://file.hankcs.com/hanlp/tok/fine_electra_small_20220615_231803.zip',\n",
       " 'CTB9_TOK_ELECTRA_SMALL': 'https://file.hankcs.com/hanlp/tok/ctb9_electra_small_20220215_205427.zip',\n",
       " 'CTB9_TOK_ELECTRA_BASE': 'http://download.hanlp.com/tok/extra/ctb9_tok_electra_base_20220426_111949.zip',\n",
       " 'CTB9_TOK_ELECTRA_BASE_CRF': 'http://download.hanlp.com/tok/extra/ctb9_tok_electra_base_crf_20220426_161255.zip',\n",
       " 'MSR_TOK_ELECTRA_BASE_CRF': 'http://download.hanlp.com/tok/extra/msra_crf_electra_base_20220507_113936.zip',\n",
       " 'UD_TOK_MMINILMV2L6': 'https://file.hankcs.com/hanlp/tok/ud_tok_mMiniLMv2L6_no_space_mul_20220619_091824.zip',\n",
       " 'UD_TOK_MMINILMV2L12': 'https://file.hankcs.com/hanlp/tok/ud_tok_mMiniLMv2L12_no_space_mul_20220619_091159.zip'}"
      ]
     },
     "execution_count": 8,
     "metadata": {},
     "output_type": "execute_result"
    }
   ],
   "source": [
    "hanlp.pretrained.tok.ALL"
   ]
  },
  {
   "cell_type": "code",
   "execution_count": null,
   "id": "24e8d12b-cceb-4163-9a67-a46df75897c0",
   "metadata": {},
   "outputs": [],
   "source": []
  }
 ],
 "metadata": {
  "kernelspec": {
   "display_name": "Python 3.9.16 (nlp)",
   "language": "python",
   "name": "nlp"
  },
  "language_info": {
   "codemirror_mode": {
    "name": "ipython",
    "version": 3
   },
   "file_extension": ".py",
   "mimetype": "text/x-python",
   "name": "python",
   "nbconvert_exporter": "python",
   "pygments_lexer": "ipython3",
   "version": "3.9.16"
  }
 },
 "nbformat": 4,
 "nbformat_minor": 5
}
