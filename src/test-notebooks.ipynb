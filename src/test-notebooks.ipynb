{
 "cells": [
  {
   "cell_type": "code",
   "execution_count": 1,
   "id": "1e65bfb5-6e19-45a6-bfb4-051702e9d2d8",
   "metadata": {},
   "outputs": [],
   "source": [
    "import pkg.env as env\n",
    "from pkg.api import API\n",
    "from pkg.notebook import Notebook, Notebooks"
   ]
  },
  {
   "cell_type": "code",
   "execution_count": 2,
   "id": "778cc28d-15a1-4faf-99c7-a1159fffa93c",
   "metadata": {},
   "outputs": [],
   "source": [
    "api = API(\n",
    "    token=env.token,\n",
    "    host=env.host,\n",
    "    port=env.port,\n",
    "    ssl=env.ssl,\n",
    "    # proxies=env.proxies,\n",
    ")"
   ]
  },
  {
   "cell_type": "code",
   "execution_count": 3,
   "id": "7231b194-49e2-4141-978f-6be671f9c3d8",
   "metadata": {},
   "outputs": [
    {
     "data": {
      "text/plain": [
       "{'code': 0,\n",
       " 'msg': '',\n",
       " 'data': {'notebooks': [{'id': '20210808180117-czj9bvb',\n",
       "    'name': '思源笔记用户指南',\n",
       "    'icon': '1f4d4',\n",
       "    'sort': 1,\n",
       "    'sortMode': 15,\n",
       "    'closed': False},\n",
       "   {'id': '20221218112826-ve9wo2u',\n",
       "    'name': '日记',\n",
       "    'icon': '1f4a4',\n",
       "    'sort': 2,\n",
       "    'sortMode': 15,\n",
       "    'closed': False},\n",
       "   {'id': '20211225154911-h65wab7',\n",
       "    'name': '分类',\n",
       "    'icon': 'material/folder-class.svg',\n",
       "    'sort': 2,\n",
       "    'sortMode': 15,\n",
       "    'closed': True},\n",
       "   {'id': '20210917000226-w9fa32i',\n",
       "    'name': '日志',\n",
       "    'icon': '1f4c6',\n",
       "    'sort': 3,\n",
       "    'sortMode': 15,\n",
       "    'closed': False},\n",
       "   {'id': '20211117210244-rd7a3f9',\n",
       "    'name': '收集',\n",
       "    'icon': '1f4e5',\n",
       "    'sort': 4,\n",
       "    'sortMode': 15,\n",
       "    'closed': False},\n",
       "   {'id': '20210916152511-9ihqyfi',\n",
       "    'name': '工具',\n",
       "    'icon': '1f4d1',\n",
       "    'sort': 5,\n",
       "    'sortMode': 15,\n",
       "    'closed': False},\n",
       "   {'id': '20210918102434-mtrd8yr',\n",
       "    'name': '课程',\n",
       "    'icon': '科技/School_96px.png',\n",
       "    'sort': 6,\n",
       "    'sortMode': 15,\n",
       "    'closed': False},\n",
       "   {'id': '20211202140059-zm0xt6u',\n",
       "    'name': '应用',\n",
       "    'icon': 'vscode/file_type_appsemble.svg',\n",
       "    'sort': 7,\n",
       "    'sortMode': 15,\n",
       "    'closed': False},\n",
       "   {'id': '20211203004753-8okas3v',\n",
       "    'name': '项目',\n",
       "    'icon': 'material/folder-project.svg',\n",
       "    'sort': 8,\n",
       "    'sortMode': 15,\n",
       "    'closed': False},\n",
       "   {'id': '20220401230900-vo8i4ca',\n",
       "    'name': '文章',\n",
       "    'icon': 'material/folder-docs.svg',\n",
       "    'sort': 9,\n",
       "    'sortMode': 15,\n",
       "    'closed': False},\n",
       "   {'id': '20220622092813-n0svnws',\n",
       "    'name': '清单',\n",
       "    'icon': '用户界面/List_of_Thumbnails_96px.png',\n",
       "    'sort': 10,\n",
       "    'sortMode': 15,\n",
       "    'closed': False},\n",
       "   {'id': '20211204012232-tfejc3a',\n",
       "    'name': '学术',\n",
       "    'icon': 'material/asciidoc.svg',\n",
       "    'sort': 11,\n",
       "    'sortMode': 15,\n",
       "    'closed': False},\n",
       "   {'id': '20220718131457-vcou6to',\n",
       "    'name': 'Jupyter',\n",
       "    'icon': 'material/jupyter.svg',\n",
       "    'sort': 12,\n",
       "    'sortMode': 15,\n",
       "    'closed': False},\n",
       "   {'id': '20210914201520-i0v92g9',\n",
       "    'name': '测试',\n",
       "    'icon': '1f9ea',\n",
       "    'sort': 13,\n",
       "    'sortMode': 15,\n",
       "    'closed': False}]}}"
      ]
     },
     "execution_count": 3,
     "metadata": {},
     "output_type": "execute_result"
    }
   ],
   "source": [
    "response = api.post(\n",
    "    url=api.url.lsNotebooks\n",
    ")\n",
    "response.body"
   ]
  },
  {
   "cell_type": "code",
   "execution_count": 4,
   "id": "92e4255c-eaed-455c-88b8-791fd78387a2",
   "metadata": {},
   "outputs": [],
   "source": [
    "notebooks = Notebooks(notebooks=[Notebook.fromDict(n) for n in response.body['data']['notebooks']])"
   ]
  },
  {
   "cell_type": "code",
   "execution_count": 6,
   "id": "220f5cd5-cee3-4f6f-a1c7-3b295c04c8a0",
   "metadata": {},
   "outputs": [
    {
     "data": {
      "text/plain": [
       "'思源笔记用户指南'"
      ]
     },
     "execution_count": 6,
     "metadata": {},
     "output_type": "execute_result"
    }
   ],
   "source": [
    "notebooks.id2name('20210808180117-czj9bvb')"
   ]
  }
 ],
 "metadata": {
  "kernelspec": {
   "display_name": "Python 3.9.16 (nlp)",
   "language": "python",
   "name": "nlp"
  },
  "language_info": {
   "codemirror_mode": {
    "name": "ipython",
    "version": 3
   },
   "file_extension": ".py",
   "mimetype": "text/x-python",
   "name": "python",
   "nbconvert_exporter": "python",
   "pygments_lexer": "ipython3",
   "version": "3.9.16"
  }
 },
 "nbformat": 4,
 "nbformat_minor": 5
}
