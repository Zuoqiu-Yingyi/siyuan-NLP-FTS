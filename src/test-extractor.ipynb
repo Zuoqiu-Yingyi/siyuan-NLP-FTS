{
 "cells": [
  {
   "cell_type": "code",
   "execution_count": 1,
   "id": "a975add6-d841-4a96-ac40-4b1f814fdc42",
   "metadata": {},
   "outputs": [],
   "source": [
    "from pkg.extractor import Extractor\n",
    "from pkg.node import Data"
   ]
  },
  {
   "cell_type": "code",
   "execution_count": 2,
   "id": "0464e874-31bc-40f9-b0e0-950f5be22afe",
   "metadata": {},
   "outputs": [
    {
     "name": "stderr",
     "output_type": "stream",
     "text": [
      "/home/lyl/miniconda3/envs/nlp/lib/python3.9/site-packages/tqdm/auto.py:22: TqdmWarning: IProgress not found. Please update jupyter and ipywidgets. See https://ipywidgets.readthedocs.io/en/stable/user_install.html\n",
      "  from .autonotebook import tqdm as notebook_tqdm\n",
      "                                             \r"
     ]
    }
   ],
   "source": [
    "extractor = Extractor()"
   ]
  },
  {
   "cell_type": "code",
   "execution_count": 3,
   "id": "d939bcb5-6fd6-4144-a563-b899d6862b1c",
   "metadata": {},
   "outputs": [],
   "source": [
    "data = Data(\n",
    "    content = '网络空间安全领域的智能化',\n",
    "    name = '大数据分析',\n",
    "    memo = '数据隐私、网络测量与内容情感分析\\n数据挖掘与知识发现\\n基于大数据智能分析技术的隐私挖掘',\n",
    "    alias = '课程,人工智能与机器学习,网络空间安全领域智能化',\n",
    ")"
   ]
  },
  {
   "cell_type": "code",
   "execution_count": 4,
   "id": "f3a49577-408e-4601-b806-49f45d1243bb",
   "metadata": {},
   "outputs": [],
   "source": [
    "data.extractKeys(extractor)"
   ]
  },
  {
   "cell_type": "code",
   "execution_count": 5,
   "id": "54ed4e78-a59e-4995-a3af-7ab3b3ee8a6f",
   "metadata": {},
   "outputs": [
    {
     "data": {
      "text/plain": [
       "{'人工智能',\n",
       " '人工智能与机器',\n",
       " '人工智能与机器学习',\n",
       " '内容',\n",
       " '内容情感分析',\n",
       " '分析',\n",
       " '发现',\n",
       " '大数据',\n",
       " '大数据分析',\n",
       " '大数据智能分析技术',\n",
       " '学习',\n",
       " '安全',\n",
       " '情感',\n",
       " '技术',\n",
       " '挖掘',\n",
       " '数据',\n",
       " '数据挖掘',\n",
       " '数据挖掘与知识发现',\n",
       " '数据隐私',\n",
       " '智能',\n",
       " '智能化',\n",
       " '机器',\n",
       " '测量',\n",
       " '知识',\n",
       " '空间',\n",
       " '网络',\n",
       " '网络测量',\n",
       " '网络空间安全领域',\n",
       " '网络空间安全领域的智能化',\n",
       " '课程',\n",
       " '隐私',\n",
       " '隐私挖掘',\n",
       " '领域'}"
      ]
     },
     "execution_count": 5,
     "metadata": {},
     "output_type": "execute_result"
    }
   ],
   "source": [
    "data.keys"
   ]
  }
 ],
 "metadata": {
  "kernelspec": {
   "display_name": "Python 3.9.16 (nlp)",
   "language": "python",
   "name": "nlp"
  },
  "language_info": {
   "codemirror_mode": {
    "name": "ipython",
    "version": 3
   },
   "file_extension": ".py",
   "mimetype": "text/x-python",
   "name": "python",
   "nbconvert_exporter": "python",
   "pygments_lexer": "ipython3",
   "version": "3.9.16"
  }
 },
 "nbformat": 4,
 "nbformat_minor": 5
}
