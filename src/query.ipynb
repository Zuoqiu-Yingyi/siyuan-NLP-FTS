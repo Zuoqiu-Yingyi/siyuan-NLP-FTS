{
 "cells": [
  {
   "cell_type": "markdown",
   "id": "0b659d3f-2b52-4984-8b0b-ca8a28933051",
   "metadata": {},
   "source": [
    "# 配置项"
   ]
  },
  {
   "cell_type": "code",
   "execution_count": 1,
   "id": "f45ba707-7bf3-4b7a-862f-104c4641889f",
   "metadata": {},
   "outputs": [],
   "source": [
    "# root_id = '20221125094240-jdfn6ce'  # 课程/人工智能与机器学习/网络空间安全领域智能化\n",
    "root_id = '20220909082530-85ixym4'  # 课程/人工智能与机器学习\n",
    "path_root = './data/prod'  # 数据目录\n",
    "path_tree_dir = f'{path_root}/tree'  # 节点树目录\n",
    "path_tree_file = f'{path_tree_dir}/{root_id}.json'  # 节点树文件\n",
    "path_tree_file_with_keys = f'{path_tree_dir}/{root_id}-keys.json'  # 提取了关键字的节点树文件\n",
    "path_tree_file_with_full_keys = f'{path_tree_dir}/{root_id}-full-keys.json'  # 继承了上级节点关键字的树文件\n",
    "path_index = f'{path_root}/index/{root_id}/'  # 索引文件保存目录"
   ]
  },
  {
   "cell_type": "code",
   "execution_count": 2,
   "id": "fcae3f09-2a72-42d3-b00b-8df6e18c9f36",
   "metadata": {},
   "outputs": [],
   "source": [
    "import json"
   ]
  },
  {
   "cell_type": "markdown",
   "id": "7afcbb15-7e12-4bf0-a266-148071ca3c9a",
   "metadata": {},
   "source": [
    "# 查询"
   ]
  },
  {
   "cell_type": "code",
   "execution_count": 3,
   "id": "e966717a-7dc3-4cef-826d-f8729a32a5de",
   "metadata": {},
   "outputs": [],
   "source": [
    "from pkg.fts import FTS\n",
    "from pkg.tree import Tree\n",
    "from pkg.extractor import Extractor"
   ]
  },
  {
   "cell_type": "code",
   "execution_count": 4,
   "id": "a659168d-6078-41c7-b077-9a2d23034d7b",
   "metadata": {},
   "outputs": [
    {
     "name": "stdout",
     "output_type": "stream",
     "text": [
      "node count: 3677\n"
     ]
    }
   ],
   "source": [
    "with open(path_tree_file_with_full_keys, 'r') as f:\n",
    "    tree = Tree.fromDict(json.loads(f.read()))\n",
    "node_count = len(tree)\n",
    "print('node count:', node_count)"
   ]
  },
  {
   "cell_type": "code",
   "execution_count": 5,
   "id": "64f60b15-8ec3-42f4-9575-951086e7e20e",
   "metadata": {},
   "outputs": [
    {
     "data": {
      "text/plain": [
       "<pkg.fts.FTS at 0x7f1f992daac0>"
      ]
     },
     "execution_count": 5,
     "metadata": {},
     "output_type": "execute_result"
    }
   ],
   "source": [
    "fts = FTS(\n",
    "    index_dir=path_index\n",
    ")\n",
    "# fts.initIndex()\n",
    "fts.openIndex()"
   ]
  },
  {
   "cell_type": "code",
   "execution_count": 6,
   "id": "9def4804-1736-4305-a8c6-0938447a58fd",
   "metadata": {},
   "outputs": [
    {
     "name": "stderr",
     "output_type": "stream",
     "text": [
      "/home/lyl/miniconda3/envs/nlp/lib/python3.9/site-packages/tqdm/auto.py:22: TqdmWarning: IProgress not found. Please update jupyter and ipywidgets. See https://ipywidgets.readthedocs.io/en/stable/user_install.html\n",
      "  from .autonotebook import tqdm as notebook_tqdm\n",
      "                                             \r"
     ]
    }
   ],
   "source": [
    "extractor = Extractor()"
   ]
  },
  {
   "cell_type": "code",
   "execution_count": 11,
   "id": "ac531f1c-bfd0-48b3-8187-200f19a0fafc",
   "metadata": {},
   "outputs": [
    {
     "name": "stdout",
     "output_type": "stream",
     "text": [
      "{'人工智能', '网络空间安全领域', '领域', '研究内容', '网络空间安全'} {'人工智能', '网络', '领域', '空间', '研究', '安全', '内容'}\n",
      "人工智能 OR 网络空间安全领域 OR 领域 OR 研究内容 OR 网络空间安全 OR (人工智能 AND 网络 AND 领域 AND 空间 AND 研究 AND 安全 AND 内容)\n"
     ]
    }
   ],
   "source": [
    "# query = '网络空间安全 机器学习 流程'\n",
    "# query = '网络空间安全及主要研究内容'\n",
    "# query = '强化学习的作用'\n",
    "query = '人工智能在网络空间安全领域中的主要研究内容'\n",
    "phrases, words  = extractor.classify(set(query.split()))\n",
    "\n",
    "query = f\"{' OR '.join(phrases)} OR ({' AND '.join(words)})\"\n",
    "print(phrases, words)\n",
    "print(query)"
   ]
  },
  {
   "cell_type": "code",
   "execution_count": 12,
   "id": "742c57f1-7cf0-45e2-8f09-102668e10e12",
   "metadata": {},
   "outputs": [
    {
     "name": "stdout",
     "output_type": "stream",
     "text": [
      "siyuan://blocks/20221125094307-5xzqeob 课程 > 人工智能与机器学习 > 网络空间安全领域智能化 > 网络空间安全及主要研究内容\n",
      "siyuan://blocks/20221223094423-zz4go8n 课程 > 人工智能与机器学习 > 网络空间安全领域智能化 > 网络空间安全及主要研究内容 > 系统安全\n",
      "siyuan://blocks/20221223100554-gdjhnd0 课程 > 人工智能与机器学习 > 网络空间安全领域智能化 > 网络空间安全及主要研究内容 > 系统安全 > 可信计算\n",
      "siyuan://blocks/20221223100554-sio71ms 课程 > 人工智能与机器学习 > 网络空间安全领域智能化 > 网络空间安全及主要研究内容 > 系统安全 > 虚拟化及安全\n",
      "siyuan://blocks/20221223100554-57eaito 课程 > 人工智能与机器学习 > 网络空间安全领域智能化 > 网络空间安全及主要研究内容 > 系统安全 > 系统入侵检测\n",
      "siyuan://blocks/20221223100554-ddp0kcz 课程 > 人工智能与机器学习 > 网络空间安全领域智能化 > 网络空间安全及主要研究内容 > 系统安全 > 公共系统安全—公共云安全\n",
      "siyuan://blocks/20221223100554-k4cbd00 课程 > 人工智能与机器学习 > 网络空间安全领域智能化 > 网络空间安全及主要研究内容 > 系统安全 > 大型应用系统安全\n",
      "siyuan://blocks/20221223100601-77r3de6 课程 > 人工智能与机器学习 > 网络空间安全领域智能化 > 网络空间安全及主要研究内容 > 系统安全 > 大型应用系统安全 > 智慧城市安全\n",
      "siyuan://blocks/20221223100558-3fyd7gm 课程 > 人工智能与机器学习 > 网络空间安全领域智能化 > 网络空间安全及主要研究内容 > 系统安全 > 大型应用系统安全 > 物联网系统安全（无人智能系统安全）\n",
      "siyuan://blocks/20221223100554-joffde5 课程 > 人工智能与机器学习 > 网络空间安全领域智能化 > 网络空间安全及主要研究内容 > 系统安全 > 大型应用系统安全 > 大型应用系统安全\n"
     ]
    }
   ],
   "source": [
    "with fts.searcher as s:\n",
    "    results = s.search(fts.parse(query).query)\n",
    "    for result in results:\n",
    "        node_id = result['id']\n",
    "        breadcrumb = ' > '.join(map(lambda node: node.data.content, tree.getBreadcrumb(node_id)))\n",
    "        print(f\"siyuan://blocks/{node_id}\", breadcrumb)"
   ]
  },
  {
   "cell_type": "code",
   "execution_count": null,
   "id": "72cfe701-cde9-4258-8cf8-1a0c029af99a",
   "metadata": {},
   "outputs": [],
   "source": []
  }
 ],
 "metadata": {
  "kernelspec": {
   "display_name": "Python 3.9.16 (nlp)",
   "language": "python",
   "name": "nlp"
  },
  "language_info": {
   "codemirror_mode": {
    "name": "ipython",
    "version": 3
   },
   "file_extension": ".py",
   "mimetype": "text/x-python",
   "name": "python",
   "nbconvert_exporter": "python",
   "pygments_lexer": "ipython3",
   "version": "3.9.16"
  }
 },
 "nbformat": 4,
 "nbformat_minor": 5
}
