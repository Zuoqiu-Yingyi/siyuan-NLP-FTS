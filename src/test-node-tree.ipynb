{
 "cells": [
  {
   "cell_type": "code",
   "execution_count": 1,
   "id": "bf465904-5e7e-44f9-8bb7-4e7730683f67",
   "metadata": {},
   "outputs": [],
   "source": [
    "from pkg.node import Node, Data\n",
    "import json"
   ]
  },
  {
   "cell_type": "code",
   "execution_count": 2,
   "id": "2eaf6846-5bec-4147-862b-75461756f2d6",
   "metadata": {},
   "outputs": [],
   "source": [
    "node = Node(\n",
    "    id='20221223094723-jy30qfz',\n",
    "    data=Data(\n",
    "        content='content',\n",
    "        name='name',\n",
    "        memo='memo',\n",
    "        alias={'alias'},\n",
    "    ),\n",
    ")"
   ]
  },
  {
   "cell_type": "code",
   "execution_count": 3,
   "id": "df8d5d57-7da2-4446-b282-ab93c1657f10",
   "metadata": {},
   "outputs": [],
   "source": [
    "# json.dumps(node, default=lambda n: n.__dict__)\n",
    "json_str = json.dumps(node.__dict__())"
   ]
  },
  {
   "cell_type": "code",
   "execution_count": 4,
   "id": "d0919f85-0182-47a5-831b-ba4186a76545",
   "metadata": {},
   "outputs": [],
   "source": [
    "_node = Node.fromDict(json.loads(json_str))"
   ]
  },
  {
   "cell_type": "code",
   "execution_count": 6,
   "id": "415c4600-b631-47b0-a074-4b0752bce295",
   "metadata": {},
   "outputs": [
    {
     "data": {
      "text/plain": [
       "{'id': '20221223094723-jy30qfz',\n",
       " 'parent_id': None,\n",
       " 'children': [],\n",
       " 'children_id': [],\n",
       " 'data': {'content': 'content',\n",
       "  'name': 'name',\n",
       "  'memo': 'memo',\n",
       "  'alias': ['alias'],\n",
       "  'keys': []}}"
      ]
     },
     "execution_count": 6,
     "metadata": {},
     "output_type": "execute_result"
    }
   ],
   "source": [
    "node.__dict__()"
   ]
  },
  {
   "cell_type": "code",
   "execution_count": 8,
   "id": "944ae5a2-7298-4bbb-8efc-1d04bb374477",
   "metadata": {},
   "outputs": [
    {
     "data": {
      "text/plain": [
       "{'id': '20221223094723-jy30qfz',\n",
       " 'parent_id': None,\n",
       " 'children': [],\n",
       " 'children_id': [],\n",
       " 'data': {'content': 'content',\n",
       "  'name': 'name',\n",
       "  'memo': 'memo',\n",
       "  'alias': ['alias'],\n",
       "  'keys': []}}"
      ]
     },
     "execution_count": 8,
     "metadata": {},
     "output_type": "execute_result"
    }
   ],
   "source": [
    "_node.__dict__()"
   ]
  }
 ],
 "metadata": {
  "kernelspec": {
   "display_name": "Python 3.9.16 (nlp)",
   "language": "python",
   "name": "nlp"
  },
  "language_info": {
   "codemirror_mode": {
    "name": "ipython",
    "version": 3
   },
   "file_extension": ".py",
   "mimetype": "text/x-python",
   "name": "python",
   "nbconvert_exporter": "python",
   "pygments_lexer": "ipython3",
   "version": "3.9.16"
  }
 },
 "nbformat": 4,
 "nbformat_minor": 5
}
