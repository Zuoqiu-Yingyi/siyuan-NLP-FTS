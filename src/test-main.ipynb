{
 "cells": [
  {
   "cell_type": "markdown",
   "id": "0b659d3f-2b52-4984-8b0b-ca8a28933051",
   "metadata": {},
   "source": [
    "# 配置项"
   ]
  },
  {
   "cell_type": "code",
   "execution_count": 1,
   "id": "f45ba707-7bf3-4b7a-862f-104c4641889f",
   "metadata": {},
   "outputs": [],
   "source": [
    "# root_id = '20221125094240-jdfn6ce'  # 课程/人工智能与机器学习/网络空间安全领域智能化\n",
    "root_id = '20220909082530-85ixym4'  # 课程/人工智能与机器学习\n",
    "path_root = './data/dev'  # 数据目录\n",
    "path_tree = f'{path_root}/tree/{root_id}.json'  # 节点树文件\n",
    "path_tree_with_keys = f'{path_root}/tree/{root_id}-keys.json'  # 提取了关键字的节点树文件\n",
    "path_tree_with_full_keys = f'{path_root}/tree/{root_id}-full-keys.json'  # 继承了上级节点关键字的树文件\n",
    "path_index = f'{path_root}/index/{root_id}/'  # 索引文件保存目录"
   ]
  },
  {
   "cell_type": "code",
   "execution_count": 2,
   "id": "fcae3f09-2a72-42d3-b00b-8df6e18c9f36",
   "metadata": {},
   "outputs": [],
   "source": [
    "import json\n",
    "import datetime"
   ]
  },
  {
   "cell_type": "code",
   "execution_count": 3,
   "id": "94682a75-b998-472a-94f4-aab100a31321",
   "metadata": {},
   "outputs": [],
   "source": [
    "# 统计时间\n",
    "def progress(start, current, final):\n",
    "    now = datetime.datetime.now()\n",
    "    duration = now - start\n",
    "    rate = current/final\n",
    "    print(f\"{str(duration):<15} {str(duration * (1-rate) / rate):<15} {current:8}/{final} {rate*100:8.3f}%\", end='\\r')"
   ]
  },
  {
   "cell_type": "markdown",
   "id": "083576b6-59b5-4bde-9388-40e7a3f58435",
   "metadata": {},
   "source": [
    "# 构造节点树并保存"
   ]
  },
  {
   "cell_type": "code",
   "execution_count": 4,
   "id": "8dad3c2c-f5f0-4976-8981-a8d3828ff9e3",
   "metadata": {},
   "outputs": [],
   "source": [
    "import pkg.env as env\n",
    "\n",
    "from pkg.api import API\n",
    "from pkg.notebook import Notebook, Notebooks\n",
    "from pkg.client import Client\n",
    "from pkg.tree import Tree"
   ]
  },
  {
   "cell_type": "code",
   "execution_count": 5,
   "id": "8cd7f363-1505-4f41-b310-a1518c01d30e",
   "metadata": {},
   "outputs": [],
   "source": [
    "client = Client(\n",
    "    token=env.token,\n",
    "    host=env.host,\n",
    "    port=env.port,\n",
    "    ssl=env.ssl,\n",
    "    proxies=env.proxies,\n",
    ")"
   ]
  },
  {
   "cell_type": "code",
   "execution_count": 6,
   "id": "7952849c-ca83-4987-84d5-39e6eef55ab3",
   "metadata": {},
   "outputs": [],
   "source": [
    "notebooks = client.getNotebooks()"
   ]
  },
  {
   "cell_type": "code",
   "execution_count": 7,
   "id": "4bebbe2d-dd7b-4f69-b4da-637f743f3345",
   "metadata": {},
   "outputs": [],
   "source": [
    "tree = Tree(\n",
    "    client=client,\n",
    "    notebooks=notebooks,\n",
    ")"
   ]
  },
  {
   "cell_type": "code",
   "execution_count": 8,
   "id": "2d965a05-f95b-439c-adfb-d134169be4f3",
   "metadata": {},
   "outputs": [
    {
     "name": "stdout",
     "output_type": "stream",
     "text": [
      "20220909082530-85ixym4: 课程/人工智能与机器学习\n"
     ]
    }
   ],
   "source": [
    "tree.buildTree(\n",
    "    root_id,\n",
    ")"
   ]
  },
  {
   "cell_type": "code",
   "execution_count": 9,
   "id": "b6ef6920-f2ba-42c9-9243-f981958993da",
   "metadata": {},
   "outputs": [],
   "source": [
    "with open(path_tree, 'w') as f:\n",
    "    f.write(json.dumps(tree.__dict__(), indent=2, ensure_ascii=False))"
   ]
  },
  {
   "cell_type": "markdown",
   "id": "e6b6e872-8608-408a-b0f7-8f213a11088b",
   "metadata": {},
   "source": [
    "# 提取各节点关键短语并保存"
   ]
  },
  {
   "cell_type": "code",
   "execution_count": 10,
   "id": "cd575f4a-6b9a-4385-822a-2151f64b49f8",
   "metadata": {},
   "outputs": [],
   "source": [
    "from pkg.extractor import Extractor\n",
    "from pkg.tree import Tree"
   ]
  },
  {
   "cell_type": "code",
   "execution_count": 11,
   "id": "b64cdf2e-a55f-4310-bf27-527fc35cc53c",
   "metadata": {},
   "outputs": [
    {
     "name": "stdout",
     "output_type": "stream",
     "text": [
      "node count: 3521\n"
     ]
    }
   ],
   "source": [
    "with open(path_tree, 'r') as f:\n",
    "    tree = Tree.fromDict(json.loads(f.read()))\n",
    "node_count = len(tree)\n",
    "print('node count:', node_count)"
   ]
  },
  {
   "cell_type": "code",
   "execution_count": 12,
   "id": "76f74b33-22d8-4cb2-8f77-09e1188c2d39",
   "metadata": {},
   "outputs": [
    {
     "name": "stderr",
     "output_type": "stream",
     "text": [
      "/home/lyl/miniconda3/envs/nlp/lib/python3.9/site-packages/tqdm/auto.py:22: TqdmWarning: IProgress not found. Please update jupyter and ipywidgets. See https://ipywidgets.readthedocs.io/en/stable/user_install.html\n",
      "  from .autonotebook import tqdm as notebook_tqdm\n",
      "                                             \r"
     ]
    }
   ],
   "source": [
    "extractor = Extractor()"
   ]
  },
  {
   "cell_type": "code",
   "execution_count": 13,
   "id": "d52acf5e-0f9b-46ed-8f2a-ec121e7dad1e",
   "metadata": {},
   "outputs": [
    {
     "name": "stdout",
     "output_type": "stream",
     "text": [
      "0:02:19.249233  0:00:00             3521/3521  100.000%\r"
     ]
    }
   ],
   "source": [
    "start = datetime.datetime.now()\n",
    "for i, node in enumerate(tree):\n",
    "    node.data.extractKeys(extractor)\n",
    "    progress(start, i+1, node_count)"
   ]
  },
  {
   "cell_type": "code",
   "execution_count": 14,
   "id": "84dbb15f-787a-42b7-b3e5-fa1fafb8fa5e",
   "metadata": {},
   "outputs": [],
   "source": [
    "with open(path_tree_with_keys, 'w') as f:\n",
    "    f.write(json.dumps(tree.__dict__(), indent=2, ensure_ascii=False))"
   ]
  },
  {
   "cell_type": "markdown",
   "id": "b3b6c672-1d6d-494b-bc9e-a1b507782794",
   "metadata": {},
   "source": [
    "# 各节点继承关键短语并保存"
   ]
  },
  {
   "cell_type": "code",
   "execution_count": 15,
   "id": "d13a8513-0a94-48ad-85b9-f44a1779eba9",
   "metadata": {},
   "outputs": [],
   "source": [
    "from pkg.tree import Tree"
   ]
  },
  {
   "cell_type": "code",
   "execution_count": 16,
   "id": "3e71dd2f-7e4a-4313-bfa5-6974b353068b",
   "metadata": {},
   "outputs": [
    {
     "name": "stdout",
     "output_type": "stream",
     "text": [
      "node count: 3521\n"
     ]
    }
   ],
   "source": [
    "with open(path_tree_with_keys, 'r') as f:\n",
    "    tree = Tree.fromDict(json.loads(f.read()))\n",
    "node_count = len(tree)\n",
    "print('node count:', node_count)"
   ]
  },
  {
   "cell_type": "code",
   "execution_count": 17,
   "id": "92ec5a9c-e330-4c58-83b9-53c55d9ee2e4",
   "metadata": {},
   "outputs": [
    {
     "name": "stdout",
     "output_type": "stream",
     "text": [
      "0:00:00.052545  0:00:00             3521/3521  100.000%\r"
     ]
    }
   ],
   "source": [
    "start = datetime.datetime.now()\n",
    "for i, node in enumerate(tree):\n",
    "    node.data.inheritKeys(node.parent.data)\n",
    "    progress(start, i+1, node_count)"
   ]
  },
  {
   "cell_type": "code",
   "execution_count": 18,
   "id": "549dc76d-63a6-4232-9ffd-bda2768e9d96",
   "metadata": {},
   "outputs": [],
   "source": [
    "with open(path_tree_with_full_keys, 'w') as f:\n",
    "    f.write(json.dumps(tree.__dict__(), indent=2, ensure_ascii=False))"
   ]
  },
  {
   "cell_type": "markdown",
   "id": "fd0e4fe1-4353-4e72-b1e5-df92b7ac7ae6",
   "metadata": {},
   "source": [
    "# 索引各节点"
   ]
  },
  {
   "cell_type": "code",
   "execution_count": 19,
   "id": "ef0984fc-44fa-4296-8f1f-eafcb23f3373",
   "metadata": {},
   "outputs": [],
   "source": [
    "from pkg.fts import FTS\n",
    "from pkg.tree import Tree"
   ]
  },
  {
   "cell_type": "code",
   "execution_count": 20,
   "id": "781df9e1-a8a9-468c-ba29-16352005397c",
   "metadata": {},
   "outputs": [
    {
     "name": "stdout",
     "output_type": "stream",
     "text": [
      "node count: 3521\n"
     ]
    }
   ],
   "source": [
    "with open(path_tree_with_full_keys, 'r') as f:\n",
    "    tree = Tree.fromDict(json.loads(f.read()))\n",
    "node_count = len(tree)\n",
    "print('node count:', node_count)"
   ]
  },
  {
   "cell_type": "code",
   "execution_count": 21,
   "id": "d635b656-f333-4032-8b12-5b18138fdff9",
   "metadata": {},
   "outputs": [
    {
     "data": {
      "text/plain": [
       "<pkg.fts.FTS at 0x7f2a768056a0>"
      ]
     },
     "execution_count": 21,
     "metadata": {},
     "output_type": "execute_result"
    }
   ],
   "source": [
    "fts = FTS(\n",
    "    index_dir=path_index\n",
    ")\n",
    "fts.initIndex()\n",
    "# fts.openIndex()"
   ]
  },
  {
   "cell_type": "code",
   "execution_count": 22,
   "id": "943942b1-784f-4206-812a-b3d3fc773f9f",
   "metadata": {},
   "outputs": [
    {
     "name": "stdout",
     "output_type": "stream",
     "text": [
      "0:00:00.628873  0:00:00             3521/3521  100.000%\r"
     ]
    },
    {
     "data": {
      "text/plain": [
       "<pkg.fts.FTS at 0x7f2a768056a0>"
      ]
     },
     "execution_count": 22,
     "metadata": {},
     "output_type": "execute_result"
    }
   ],
   "source": [
    "start = datetime.datetime.now()\n",
    "for i, node in enumerate(tree):\n",
    "    fts.add_document(\n",
    "        id=node.id,\n",
    "        keys=','.join(node.data.keys_with_inherit),\n",
    "        content=node.data.content,\n",
    "    )\n",
    "    progress(start, i+1, node_count)\n",
    "fts.commit()"
   ]
  },
  {
   "cell_type": "markdown",
   "id": "7afcbb15-7e12-4bf0-a266-148071ca3c9a",
   "metadata": {},
   "source": [
    "# 查询"
   ]
  },
  {
   "cell_type": "code",
   "execution_count": 23,
   "id": "e966717a-7dc3-4cef-826d-f8729a32a5de",
   "metadata": {},
   "outputs": [],
   "source": [
    "from pkg.fts import FTS\n",
    "from pkg.tree import Tree\n",
    "from pkg.extractor import Extractor"
   ]
  },
  {
   "cell_type": "code",
   "execution_count": 24,
   "id": "a659168d-6078-41c7-b077-9a2d23034d7b",
   "metadata": {},
   "outputs": [
    {
     "name": "stdout",
     "output_type": "stream",
     "text": [
      "node count: 3521\n"
     ]
    }
   ],
   "source": [
    "with open(path_tree_with_full_keys, 'r') as f:\n",
    "    tree = Tree.fromDict(json.loads(f.read()))\n",
    "node_count = len(tree)\n",
    "print('node count:', node_count)"
   ]
  },
  {
   "cell_type": "code",
   "execution_count": 25,
   "id": "64f60b15-8ec3-42f4-9575-951086e7e20e",
   "metadata": {},
   "outputs": [
    {
     "data": {
      "text/plain": [
       "<pkg.fts.FTS at 0x7f2a766a4820>"
      ]
     },
     "execution_count": 25,
     "metadata": {},
     "output_type": "execute_result"
    }
   ],
   "source": [
    "fts = FTS(\n",
    "    index_dir=path_index\n",
    ")\n",
    "# fts.initIndex()\n",
    "fts.openIndex()"
   ]
  },
  {
   "cell_type": "code",
   "execution_count": 26,
   "id": "9def4804-1736-4305-a8c6-0938447a58fd",
   "metadata": {},
   "outputs": [
    {
     "name": "stderr",
     "output_type": "stream",
     "text": [
      "                                             \r"
     ]
    }
   ],
   "source": [
    "extractor = Extractor()"
   ]
  },
  {
   "cell_type": "code",
   "execution_count": 27,
   "id": "22c391b1-acb1-4365-97bf-efef8d945b3d",
   "metadata": {},
   "outputs": [
    {
     "data": {
      "text/plain": [
       "[['TOP', [['IP', [['VP', [['VV', ['应用']]]]]]]]]"
      ]
     },
     "execution_count": 27,
     "metadata": {},
     "output_type": "execute_result"
    }
   ],
   "source": [
    "extractor.parse({'应用'})"
   ]
  },
  {
   "cell_type": "code",
   "execution_count": 34,
   "id": "ac531f1c-bfd0-48b3-8187-200f19a0fafc",
   "metadata": {},
   "outputs": [
    {
     "name": "stdout",
     "output_type": "stream",
     "text": [
      "{'机器学习的应用', '网络空间安全领域', '机器学习', '应用'} {'网络', '安全', '机器', '应用', '学习', '领域', '空间'}\n",
      "机器学习的应用 OR 网络空间安全领域 OR 机器学习 OR 应用 OR (网络 AND 安全 AND 机器 AND 应用 AND 学习 AND 领域 AND 空间)\n"
     ]
    }
   ],
   "source": [
    "# query = '网络空间安全 机器学习 流程'\n",
    "# query = '网络空间安全及主要研究内容'\n",
    "# query = '网络空间安全 系统安全'\n",
    "query = '在网络空间安全领域中机器学习的应用'\n",
    "phrases, words  = extractor.classify(set(query.split()))\n",
    "\n",
    "query = f\"{' OR '.join(phrases)} OR ({' AND '.join(words)})\"\n",
    "print(phrases, words)\n",
    "print(query)"
   ]
  },
  {
   "cell_type": "code",
   "execution_count": 35,
   "id": "742c57f1-7cf0-45e2-8f09-102668e10e12",
   "metadata": {},
   "outputs": [
    {
     "name": "stdout",
     "output_type": "stream",
     "text": [
      "siyuan://blocks/20221223094706-caqg3kr 课程 > 人工智能与机器学习 > 网络空间安全领域智能化 > 网络空间安全领域的智能化 > ​image 机器学习在网络空间安全中的典型应用 应用安全 应用软件安全 垃圾邮件检测 基于URL的恶意网页识别 恶意 PDF 检测 社会网络安全 社交网络异常账号检测 信用卡欺诈检测 取证分析 网络舆情 网络安全 网络基础设施安全 BGP异常检测 恶意域名检测 网络安全检测 僵尸网络检测 网络入侵检测技术 恶意加密流量识别 系统安全 芯片安全 劣质芯片检测 硬件木马检测 PUF攻击 系统硬件及物理环境安全 设备身份认证 密码设备边信道攻击 伪基站检测 系统软件安全 漏洞分析与挖掘 恶意代码分析 用户身份认证 虚拟化安全 机器学习的一般应用流程 问题抽象 数据采集 数据预处理及安全提取 模型构建 模型验证 效果评估 assets/image-20221223094706-nm9ch2o.png ​\n",
      "siyuan://blocks/20230302212920-j19azs0 课程 > 人工智能与机器学习 > 网络空间安全领域智能化 > 网络空间安全领域的智能化 > 机器学习的一般应用流程\n",
      "siyuan://blocks/20230302212920-qrdy1ru 课程 > 人工智能与机器学习 > 网络空间安全领域智能化 > 网络空间安全领域的智能化 > 机器学习的一般应用流程 > 模型验证\n",
      "siyuan://blocks/20230302212920-iku3d52 课程 > 人工智能与机器学习 > 网络空间安全领域智能化 > 网络空间安全领域的智能化 > 机器学习的一般应用流程 > 问题抽象\n",
      "siyuan://blocks/20230302212920-swhocfb 课程 > 人工智能与机器学习 > 网络空间安全领域智能化 > 网络空间安全领域的智能化 > 机器学习的一般应用流程 > 数据采集\n",
      "siyuan://blocks/20230302212920-1rblrhs 课程 > 人工智能与机器学习 > 网络空间安全领域智能化 > 网络空间安全领域的智能化 > 机器学习的一般应用流程 > 模型构建\n",
      "siyuan://blocks/20230302212920-026s1mz 课程 > 人工智能与机器学习 > 网络空间安全领域智能化 > 网络空间安全领域的智能化 > 机器学习的一般应用流程 > 数据预处理及安全提取\n",
      "siyuan://blocks/20230302212920-udjbsq0 课程 > 人工智能与机器学习 > 网络空间安全领域智能化 > 网络空间安全领域的智能化 > 机器学习的一般应用流程 > 效果评估\n",
      "siyuan://blocks/20230302212920-q3m8uxe 课程 > 人工智能与机器学习 > 网络空间安全领域智能化 > 网络空间安全领域的智能化 > 机器学习的一般应用流程 > 机器学习的一般应用流程\n",
      "siyuan://blocks/20230302212920-ioedpvz 课程 > 人工智能与机器学习 > 网络空间安全领域智能化 > 网络空间安全领域的智能化 > 机器学习在网络空间安全中的典型应用\n"
     ]
    }
   ],
   "source": [
    "with fts.searcher as s:\n",
    "    results = s.search(fts.parse(query).query)\n",
    "    for result in results:\n",
    "        node_id = result['id']\n",
    "        breadcrumb = ' > '.join(map(lambda node: node.data.content, tree.getBreadcrumb(node_id)))\n",
    "        print(f\"siyuan://blocks/{node_id}\", breadcrumb)"
   ]
  },
  {
   "cell_type": "code",
   "execution_count": null,
   "id": "8a852d7a-5555-468a-b85c-6d1482eebec7",
   "metadata": {},
   "outputs": [],
   "source": []
  }
 ],
 "metadata": {
  "kernelspec": {
   "display_name": "Python 3.9.16 (nlp)",
   "language": "python",
   "name": "nlp"
  },
  "language_info": {
   "codemirror_mode": {
    "name": "ipython",
    "version": 3
   },
   "file_extension": ".py",
   "mimetype": "text/x-python",
   "name": "python",
   "nbconvert_exporter": "python",
   "pygments_lexer": "ipython3",
   "version": "3.9.16"
  }
 },
 "nbformat": 4,
 "nbformat_minor": 5
}
