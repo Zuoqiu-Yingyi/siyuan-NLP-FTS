{
 "cells": [
  {
   "cell_type": "code",
   "execution_count": 1,
   "id": "02068b85-2352-43f0-a910-b11c5af51ae0",
   "metadata": {},
   "outputs": [],
   "source": [
    "# from whoosh.index import create_in\n",
    "from whoosh.filedb.filestore import FileStorage\n",
    "from whoosh.qparser import QueryParser\n",
    "from whoosh import fields"
   ]
  },
  {
   "cell_type": "markdown",
   "id": "38cbf773-c187-414f-a1d7-8ab17d1c94d2",
   "metadata": {},
   "source": [
    "## Schema"
   ]
  },
  {
   "cell_type": "markdown",
   "id": "8bef9edf-770f-4013-8642-073a907d04c5",
   "metadata": {},
   "source": [
    "[Quick start — Whoosh 2.7.4 documentation](https://whoosh.readthedocs.io/en/latest/quickstart.html)\n",
    "[fields module - Pre-made field types — Whoosh 2.7.4 documentation](https://whoosh.readthedocs.io/en/latest/api/fields.html#pre-made-field-types)"
   ]
  },
  {
   "cell_type": "code",
   "execution_count": 2,
   "id": "8319771f-4d3f-4d0e-a3ad-b0e9d8a873b5",
   "metadata": {},
   "outputs": [],
   "source": [
    "schema = fields.Schema(\n",
    "    id=fields.ID(\n",
    "        stored=True,\n",
    "        unique=True,\n",
    "    ),\n",
    "    keys=fields.KEYWORD(\n",
    "        stored=True,\n",
    "        commas=True,\n",
    "        # sortable=True,\n",
    "    ),\n",
    "    content=fields.STORED,\n",
    ")"
   ]
  },
  {
   "cell_type": "markdown",
   "id": "af86802c-591d-48eb-862d-b5c9aab405a1",
   "metadata": {},
   "source": [
    "## Index"
   ]
  },
  {
   "cell_type": "markdown",
   "id": "dceb7785-902a-4dd9-acd4-79cbf72bdddb",
   "metadata": {},
   "source": [
    "[How to index documents - Creating an Index object — Whoosh 2.7.4 documentation](https://whoosh.readthedocs.io/en/latest/indexing.html#creating-an-index-object)"
   ]
  },
  {
   "cell_type": "code",
   "execution_count": 3,
   "id": "365dd651-a438-43b0-a184-bec8b47d5b7f",
   "metadata": {
    "tags": []
   },
   "outputs": [],
   "source": [
    "# FileStorage??"
   ]
  },
  {
   "cell_type": "code",
   "execution_count": 4,
   "id": "f45ed140-27c2-4d4b-91e8-8f9bd9d03d28",
   "metadata": {},
   "outputs": [],
   "source": [
    "index_dir = './data/test/index/'\n",
    "storage = FileStorage(index_dir)"
   ]
  },
  {
   "cell_type": "code",
   "execution_count": 5,
   "id": "89028155-2475-416f-9e55-77707a24dfb2",
   "metadata": {},
   "outputs": [],
   "source": [
    "# Create an index\n",
    "index = storage.create_index(schema)\n",
    "\n",
    "# Open an existing index\n",
    "# index = storage.open_index()"
   ]
  },
  {
   "cell_type": "code",
   "execution_count": 6,
   "id": "a8743d0b-b4ae-49a3-ab5f-4cdccc5a0014",
   "metadata": {
    "tags": []
   },
   "outputs": [
    {
     "data": {
      "text/plain": [
       "\u001b[0;31mSignature:\u001b[0m \u001b[0mstorage\u001b[0m\u001b[0;34m.\u001b[0m\u001b[0mcreate_index\u001b[0m\u001b[0;34m(\u001b[0m\u001b[0mschema\u001b[0m\u001b[0;34m,\u001b[0m \u001b[0mindexname\u001b[0m\u001b[0;34m=\u001b[0m\u001b[0;34m'MAIN'\u001b[0m\u001b[0;34m,\u001b[0m \u001b[0mindexclass\u001b[0m\u001b[0;34m=\u001b[0m\u001b[0;32mNone\u001b[0m\u001b[0;34m)\u001b[0m\u001b[0;34m\u001b[0m\u001b[0;34m\u001b[0m\u001b[0m\n",
       "\u001b[0;31mSource:\u001b[0m   \n",
       "    \u001b[0;32mdef\u001b[0m \u001b[0mcreate_index\u001b[0m\u001b[0;34m(\u001b[0m\u001b[0mself\u001b[0m\u001b[0;34m,\u001b[0m \u001b[0mschema\u001b[0m\u001b[0;34m,\u001b[0m \u001b[0mindexname\u001b[0m\u001b[0;34m=\u001b[0m\u001b[0m_DEF_INDEX_NAME\u001b[0m\u001b[0;34m,\u001b[0m \u001b[0mindexclass\u001b[0m\u001b[0;34m=\u001b[0m\u001b[0;32mNone\u001b[0m\u001b[0;34m)\u001b[0m\u001b[0;34m:\u001b[0m\u001b[0;34m\u001b[0m\n",
       "\u001b[0;34m\u001b[0m        \u001b[0;34m\"\"\"Creates a new index in this storage.\u001b[0m\n",
       "\u001b[0;34m\u001b[0m\n",
       "\u001b[0;34m        >>> from whoosh import fields\u001b[0m\n",
       "\u001b[0;34m        >>> from whoosh.filedb.filestore import FileStorage\u001b[0m\n",
       "\u001b[0;34m        >>> schema = fields.Schema(content=fields.TEXT)\u001b[0m\n",
       "\u001b[0;34m        >>> # Create the storage directory\u001b[0m\n",
       "\u001b[0;34m        >>> st = FileStorage.create(\"indexdir\")\u001b[0m\n",
       "\u001b[0;34m        >>> # Create an index in the storage\u001b[0m\n",
       "\u001b[0;34m        >>> ix = st.create_index(schema)\u001b[0m\n",
       "\u001b[0;34m\u001b[0m\n",
       "\u001b[0;34m        :param schema: the :class:`whoosh.fields.Schema` object to use for the\u001b[0m\n",
       "\u001b[0;34m            new index.\u001b[0m\n",
       "\u001b[0;34m        :param indexname: the name of the index within the storage object. You\u001b[0m\n",
       "\u001b[0;34m            can use this option to store multiple indexes in the same storage.\u001b[0m\n",
       "\u001b[0;34m        :param indexclass: an optional custom ``Index`` sub-class to use to\u001b[0m\n",
       "\u001b[0;34m            create the index files. The default is\u001b[0m\n",
       "\u001b[0;34m            :class:`whoosh.index.FileIndex`. This method will call the\u001b[0m\n",
       "\u001b[0;34m            ``create`` class method on the given class to create the index.\u001b[0m\n",
       "\u001b[0;34m        :return: a :class:`whoosh.index.Index` instance.\u001b[0m\n",
       "\u001b[0;34m        \"\"\"\u001b[0m\u001b[0;34m\u001b[0m\n",
       "\u001b[0;34m\u001b[0m\u001b[0;34m\u001b[0m\n",
       "\u001b[0;34m\u001b[0m        \u001b[0;32mif\u001b[0m \u001b[0mself\u001b[0m\u001b[0;34m.\u001b[0m\u001b[0mreadonly\u001b[0m\u001b[0;34m:\u001b[0m\u001b[0;34m\u001b[0m\n",
       "\u001b[0;34m\u001b[0m            \u001b[0;32mraise\u001b[0m \u001b[0mReadOnlyError\u001b[0m\u001b[0;34m\u001b[0m\n",
       "\u001b[0;34m\u001b[0m        \u001b[0;32mif\u001b[0m \u001b[0mindexclass\u001b[0m \u001b[0;32mis\u001b[0m \u001b[0;32mNone\u001b[0m\u001b[0;34m:\u001b[0m\u001b[0;34m\u001b[0m\n",
       "\u001b[0;34m\u001b[0m            \u001b[0;32mimport\u001b[0m \u001b[0mwhoosh\u001b[0m\u001b[0;34m.\u001b[0m\u001b[0mindex\u001b[0m\u001b[0;34m\u001b[0m\n",
       "\u001b[0;34m\u001b[0m            \u001b[0mindexclass\u001b[0m \u001b[0;34m=\u001b[0m \u001b[0mwhoosh\u001b[0m\u001b[0;34m.\u001b[0m\u001b[0mindex\u001b[0m\u001b[0;34m.\u001b[0m\u001b[0mFileIndex\u001b[0m\u001b[0;34m\u001b[0m\n",
       "\u001b[0;34m\u001b[0m        \u001b[0;32mreturn\u001b[0m \u001b[0mindexclass\u001b[0m\u001b[0;34m.\u001b[0m\u001b[0mcreate\u001b[0m\u001b[0;34m(\u001b[0m\u001b[0mself\u001b[0m\u001b[0;34m,\u001b[0m \u001b[0mschema\u001b[0m\u001b[0;34m,\u001b[0m \u001b[0mindexname\u001b[0m\u001b[0;34m)\u001b[0m\u001b[0;34m\u001b[0m\u001b[0;34m\u001b[0m\u001b[0m\n",
       "\u001b[0;31mFile:\u001b[0m      ~/miniconda3/envs/nlp/lib/python3.9/site-packages/whoosh/filedb/filestore.py\n",
       "\u001b[0;31mType:\u001b[0m      method"
      ]
     },
     "metadata": {},
     "output_type": "display_data"
    }
   ],
   "source": [
    "storage.create_index??"
   ]
  },
  {
   "cell_type": "code",
   "execution_count": 7,
   "id": "ed0b0d72-29c4-4575-8713-2def02871f2e",
   "metadata": {},
   "outputs": [],
   "source": [
    "# dir(index)"
   ]
  },
  {
   "cell_type": "markdown",
   "id": "42fb365d-4403-4124-935d-778330b3d662",
   "metadata": {},
   "source": [
    "## Write"
   ]
  },
  {
   "cell_type": "markdown",
   "id": "81b8392e-eb45-4555-ad04-1720371afa6a",
   "metadata": {},
   "source": [
    "[How to index documents - Indexing documents — Whoosh 2.7.4 documentation](https://whoosh.readthedocs.io/en/latest/indexing.html#indexing-documents)"
   ]
  },
  {
   "cell_type": "code",
   "execution_count": 8,
   "id": "cc694366-390e-435a-9d5e-9a7ebb14a548",
   "metadata": {
    "tags": []
   },
   "outputs": [],
   "source": [
    "# index.writer??"
   ]
  },
  {
   "cell_type": "code",
   "execution_count": 9,
   "id": "69911304-a670-476b-9449-4b51447f5183",
   "metadata": {},
   "outputs": [],
   "source": [
    "writer = index.writer()"
   ]
  },
  {
   "cell_type": "code",
   "execution_count": 10,
   "id": "27638e42-fef9-487f-89c4-ccb2bd0767c5",
   "metadata": {},
   "outputs": [],
   "source": [
    "writer.add_document(\n",
    "    id='1',\n",
    "    keys='网络,领域,网络空间安全领域的智能化,空间,网络空间安全领域,安全,智能化',\n",
    "    content='网络空间安全领域的智能化',\n",
    ")\n",
    "writer.add_document(\n",
    "    id='2',\n",
    "    keys='大数据分析,大数据,分析',\n",
    "    content='大数据分析',\n",
    ")\n",
    "writer.add_document(\n",
    "    id='3',\n",
    "    keys='人工智能,人工智能与机器,学习,人工智能与机器学习,机器',\n",
    "    content='人工智能与机器学习',\n",
    ")\n",
    "writer.add_document(\n",
    "    id='4',\n",
    "    keys='网络,数据隐私,数据,分析,隐私,情感,内容情感分析,测量,网络测量,内容',\n",
    "    content='数据隐私、网络测量与内容情感分析',\n",
    ")\n",
    "writer.add_document(\n",
    "    id='5',\n",
    "    keys='知识,挖掘,数据,数据挖掘,数据挖掘与知识发现,发现',\n",
    "    content='数据挖掘与知识发现',\n",
    ")\n",
    "writer.add_document(\n",
    "    id='6',\n",
    "    keys='大数据智能分析技术,分析,挖掘,大数据,隐私挖掘,隐私,技术,智能',\n",
    "    content='基于大数据智能分析技术的隐私挖掘',\n",
    ")"
   ]
  },
  {
   "cell_type": "code",
   "execution_count": 11,
   "id": "e5338583-c893-41f0-9419-f38ca599a915",
   "metadata": {},
   "outputs": [],
   "source": [
    "writer.commit(\n",
    "    # optimize=True,\n",
    ")"
   ]
  },
  {
   "cell_type": "markdown",
   "id": "bb4c64de-a147-4543-ac40-2552b106b023",
   "metadata": {},
   "source": [
    "## Search"
   ]
  },
  {
   "cell_type": "markdown",
   "id": "13d9c50d-6ce4-4d61-b213-da277b240f84",
   "metadata": {},
   "source": [
    "[How to search — Whoosh 2.7.4 documentation](https://whoosh.readthedocs.io/en/latest/searching.html)"
   ]
  },
  {
   "cell_type": "code",
   "execution_count": 12,
   "id": "0bc45e1f-9fdf-479f-b3ac-0b290ebdcbfa",
   "metadata": {
    "tags": []
   },
   "outputs": [],
   "source": [
    "# QueryParser??"
   ]
  },
  {
   "cell_type": "code",
   "execution_count": 13,
   "id": "2b0751b1-1993-4ec5-a031-7205142892af",
   "metadata": {},
   "outputs": [],
   "source": [
    "parser = QueryParser(\"keys\", index.schema)"
   ]
  },
  {
   "cell_type": "code",
   "execution_count": 14,
   "id": "433cdb57-cdd8-40dd-8f3f-61db2da4caeb",
   "metadata": {},
   "outputs": [],
   "source": [
    "# parser.parse??"
   ]
  },
  {
   "cell_type": "code",
   "execution_count": 15,
   "id": "bb1b34bf-3e17-458d-8759-714cb29d3a10",
   "metadata": {},
   "outputs": [
    {
     "data": {
      "text/plain": [
       "And([Term('keys', '隐私挖掘'), Term('keys', '隐私')])"
      ]
     },
     "execution_count": 15,
     "metadata": {},
     "output_type": "execute_result"
    }
   ],
   "source": [
    "q = parser.parse('隐私挖掘 隐私')\n",
    "q"
   ]
  },
  {
   "cell_type": "code",
   "execution_count": 22,
   "id": "7b6e6205-1be5-4fe5-a991-07ed63acab4a",
   "metadata": {},
   "outputs": [],
   "source": [
    "# index.searcher??"
   ]
  },
  {
   "cell_type": "code",
   "execution_count": 21,
   "id": "507fbdfe-f937-4613-96b5-4ccd489d5cd7",
   "metadata": {},
   "outputs": [
    {
     "name": "stdout",
     "output_type": "stream",
     "text": [
      "[<Hit {'content': '基于大数据智能分析技术的隐私挖掘', 'id': '6', 'keys': '大数据智能分析技术,分析,挖掘,大数据,隐私挖掘,隐私,技术,智能'}>]\n"
     ]
    }
   ],
   "source": [
    "with index.searcher() as s:\n",
    "    results = s.search(q)\n",
    "    print(results[:])"
   ]
  },
  {
   "cell_type": "code",
   "execution_count": 17,
   "id": "c79bd99b-5535-4f13-89b4-5bbbdbb8d6fc",
   "metadata": {},
   "outputs": [],
   "source": [
    "# dir(results)"
   ]
  }
 ],
 "metadata": {
  "kernelspec": {
   "display_name": "Python 3.9.16 (nlp)",
   "language": "python",
   "name": "nlp"
  },
  "language_info": {
   "codemirror_mode": {
    "name": "ipython",
    "version": 3
   },
   "file_extension": ".py",
   "mimetype": "text/x-python",
   "name": "python",
   "nbconvert_exporter": "python",
   "pygments_lexer": "ipython3",
   "version": "3.9.16"
  }
 },
 "nbformat": 4,
 "nbformat_minor": 5
}
