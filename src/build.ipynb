{
 "cells": [
  {
   "cell_type": "markdown",
   "id": "fd87329a-39bd-4119-968b-939546eb86eb",
   "metadata": {},
   "source": [
    "# 配置项"
   ]
  },
  {
   "cell_type": "code",
   "execution_count": 1,
   "id": "1c864aad-6e6e-439e-b1f5-1ea0b2b66fc2",
   "metadata": {},
   "outputs": [],
   "source": [
    "# root_id = '20221125094240-jdfn6ce'  # 课程/人工智能与机器学习/网络空间安全领域智能化\n",
    "root_id = '20220909082530-85ixym4'  # 课程/人工智能与机器学习\n",
    "path_root = './data/prod'  # 数据目录\n",
    "path_tree_dir = f'{path_root}/tree'  # 节点树目录\n",
    "path_tree_file = f'{path_tree_dir}/{root_id}.json'  # 节点树文件\n",
    "path_tree_file_with_keys = f'{path_tree_dir}/{root_id}-keys.json'  # 提取了关键字的节点树文件\n",
    "path_tree_file_with_full_keys = f'{path_tree_dir}/{root_id}-full-keys.json'  # 继承了上级节点关键字的树文件\n",
    "path_index = f'{path_root}/index/{root_id}/'  # 索引文件保存目录"
   ]
  },
  {
   "cell_type": "code",
   "execution_count": 2,
   "id": "763e8e17-b8ba-4ba9-95c6-3fbb82421f6d",
   "metadata": {},
   "outputs": [],
   "source": [
    "import os\n",
    "import json\n",
    "import datetime"
   ]
  },
  {
   "cell_type": "code",
   "execution_count": 3,
   "id": "b48768be-6065-4926-b6ec-fd20e5b754b5",
   "metadata": {},
   "outputs": [],
   "source": [
    "# 创建目录\n",
    "os.makedirs(path_tree_dir, exist_ok=True)"
   ]
  },
  {
   "cell_type": "code",
   "execution_count": 4,
   "id": "0ddc71df-6cef-4f67-b15d-a37db7308e3f",
   "metadata": {},
   "outputs": [],
   "source": [
    "# 统计时间\n",
    "def progress(start, current, final):\n",
    "    now = datetime.datetime.now()\n",
    "    duration = now - start\n",
    "    rate = current/final\n",
    "    print(f\"{str(duration):<15} {str(duration * (1-rate) / rate):<15} {current:8}/{final} {rate*100:8.3f}%\", end='\\r')"
   ]
  },
  {
   "cell_type": "markdown",
   "id": "3a6099ad-1ccf-4716-a8b2-e800331ad846",
   "metadata": {},
   "source": [
    "# 构造节点树并保存"
   ]
  },
  {
   "cell_type": "code",
   "execution_count": 5,
   "id": "6914bae9-227b-4fda-ad39-b523940d61d3",
   "metadata": {},
   "outputs": [],
   "source": [
    "import pkg.env as env\n",
    "\n",
    "from pkg.api import API\n",
    "from pkg.notebook import Notebook, Notebooks\n",
    "from pkg.client import Client\n",
    "from pkg.tree import Tree"
   ]
  },
  {
   "cell_type": "code",
   "execution_count": 6,
   "id": "cd64c559-6170-489f-bd39-2d7e94250fb4",
   "metadata": {},
   "outputs": [],
   "source": [
    "client = Client(\n",
    "    token=env.token,\n",
    "    host=env.host,\n",
    "    port=env.port,\n",
    "    ssl=env.ssl,\n",
    "    proxies=env.proxies,\n",
    ")"
   ]
  },
  {
   "cell_type": "code",
   "execution_count": 7,
   "id": "99f3dfcf-2f84-4097-8485-ef2065d84983",
   "metadata": {},
   "outputs": [],
   "source": [
    "notebooks = client.getNotebooks()"
   ]
  },
  {
   "cell_type": "code",
   "execution_count": 8,
   "id": "d7096b81-da39-41dc-b9ce-dfe62f9f1f69",
   "metadata": {},
   "outputs": [],
   "source": [
    "tree = Tree(\n",
    "    client=client,\n",
    "    notebooks=notebooks,\n",
    ")"
   ]
  },
  {
   "cell_type": "code",
   "execution_count": 9,
   "id": "59cde777-3d55-44bb-8930-a0fc3318e482",
   "metadata": {},
   "outputs": [
    {
     "name": "stdout",
     "output_type": "stream",
     "text": [
      "20220909082530-85ixym4: 课程/人工智能与机器学习\n"
     ]
    }
   ],
   "source": [
    "tree.buildTree(\n",
    "    root_id,\n",
    ")"
   ]
  },
  {
   "cell_type": "code",
   "execution_count": 10,
   "id": "d6e9e875-c66f-4053-9cc1-2387ae46fcfb",
   "metadata": {},
   "outputs": [],
   "source": [
    "with open(path_tree_file, 'w') as f:\n",
    "    f.write(json.dumps(tree.__dict__(), indent=2, ensure_ascii=False))"
   ]
  },
  {
   "cell_type": "markdown",
   "id": "7e627f0d-284d-48cc-b3f5-b9afacc384aa",
   "metadata": {},
   "source": [
    "# 提取各节点关键短语并保存"
   ]
  },
  {
   "cell_type": "code",
   "execution_count": 11,
   "id": "5eb6466a-f941-44d2-8180-14ac6c441267",
   "metadata": {},
   "outputs": [],
   "source": [
    "from pkg.extractor import Extractor\n",
    "from pkg.tree import Tree"
   ]
  },
  {
   "cell_type": "code",
   "execution_count": 12,
   "id": "33cb044c-3b91-440f-9057-a229b04f244e",
   "metadata": {},
   "outputs": [
    {
     "name": "stdout",
     "output_type": "stream",
     "text": [
      "node count: 3677\n"
     ]
    }
   ],
   "source": [
    "with open(path_tree_file, 'r') as f:\n",
    "    tree = Tree.fromDict(json.loads(f.read()))\n",
    "node_count = len(tree)\n",
    "print('node count:', node_count)"
   ]
  },
  {
   "cell_type": "code",
   "execution_count": 13,
   "id": "98adedff-5afb-4df6-b295-63ede41d6951",
   "metadata": {},
   "outputs": [
    {
     "name": "stderr",
     "output_type": "stream",
     "text": [
      "/home/lyl/miniconda3/envs/nlp/lib/python3.9/site-packages/tqdm/auto.py:22: TqdmWarning: IProgress not found. Please update jupyter and ipywidgets. See https://ipywidgets.readthedocs.io/en/stable/user_install.html\n",
      "  from .autonotebook import tqdm as notebook_tqdm\n",
      "                                             \r"
     ]
    }
   ],
   "source": [
    "extractor = Extractor()"
   ]
  },
  {
   "cell_type": "code",
   "execution_count": 14,
   "id": "40dcabbe-f817-43ba-bd05-995547532a6a",
   "metadata": {},
   "outputs": [
    {
     "name": "stdout",
     "output_type": "stream",
     "text": [
      "0:02:26.557324  0:00:00             3677/3677  100.000%\r"
     ]
    }
   ],
   "source": [
    "start = datetime.datetime.now()\n",
    "for i, node in enumerate(tree):\n",
    "    node.data.extractKeys(extractor)\n",
    "    progress(start, i+1, node_count)"
   ]
  },
  {
   "cell_type": "code",
   "execution_count": 15,
   "id": "2ed61ece-d184-4eb3-a0ac-cc41b0a605d1",
   "metadata": {},
   "outputs": [],
   "source": [
    "with open(path_tree_file_with_keys, 'w') as f:\n",
    "    f.write(json.dumps(tree.__dict__(), indent=2, ensure_ascii=False))"
   ]
  },
  {
   "cell_type": "markdown",
   "id": "672d9cc6-65cc-4430-a1d2-03a8af70c397",
   "metadata": {},
   "source": [
    "# 各节点继承关键短语并保存"
   ]
  },
  {
   "cell_type": "code",
   "execution_count": 16,
   "id": "ac1cf51b-46a7-49a3-878f-72729ec601b8",
   "metadata": {},
   "outputs": [],
   "source": [
    "from pkg.tree import Tree"
   ]
  },
  {
   "cell_type": "code",
   "execution_count": 17,
   "id": "8b5d9a79-e903-4f7c-bafd-54e615bbece7",
   "metadata": {},
   "outputs": [
    {
     "name": "stdout",
     "output_type": "stream",
     "text": [
      "node count: 3677\n"
     ]
    }
   ],
   "source": [
    "with open(path_tree_file_with_keys, 'r') as f:\n",
    "    tree = Tree.fromDict(json.loads(f.read()))\n",
    "node_count = len(tree)\n",
    "print('node count:', node_count)"
   ]
  },
  {
   "cell_type": "code",
   "execution_count": 18,
   "id": "02ce6667-3d60-409a-90e0-b252686cfcfc",
   "metadata": {},
   "outputs": [],
   "source": [
    "for i, node in enumerate(tree):\n",
    "    node.data.inheritKeys(node.parent.data)"
   ]
  },
  {
   "cell_type": "code",
   "execution_count": 19,
   "id": "c1857d51-a0ab-4a90-8412-6b2bf94bb5b3",
   "metadata": {},
   "outputs": [],
   "source": [
    "with open(path_tree_file_with_full_keys, 'w') as f:\n",
    "    f.write(json.dumps(tree.__dict__(), indent=2, ensure_ascii=False))"
   ]
  },
  {
   "cell_type": "markdown",
   "id": "18dbbf7b-9408-43c4-824c-099c88e8f992",
   "metadata": {},
   "source": [
    "# 索引各节点"
   ]
  },
  {
   "cell_type": "code",
   "execution_count": 24,
   "id": "88b18ece-91e1-46df-9bc7-a7fecaa25c8c",
   "metadata": {},
   "outputs": [],
   "source": [
    "from pkg.fts import FTS\n",
    "from pkg.tree import Tree"
   ]
  },
  {
   "cell_type": "code",
   "execution_count": 25,
   "id": "fac7c36f-0c8b-40d5-b4b0-4e06b3ff80f5",
   "metadata": {},
   "outputs": [
    {
     "name": "stdout",
     "output_type": "stream",
     "text": [
      "node count: 3677\n"
     ]
    }
   ],
   "source": [
    "with open(path_tree_file_with_full_keys, 'r') as f:\n",
    "    tree = Tree.fromDict(json.loads(f.read()))\n",
    "node_count = len(tree)\n",
    "print('node count:', node_count)"
   ]
  },
  {
   "cell_type": "code",
   "execution_count": 26,
   "id": "5e9c3b42-8e14-4f69-ada2-3929cfd34726",
   "metadata": {},
   "outputs": [
    {
     "data": {
      "text/plain": [
       "<pkg.fts.FTS at 0x7f87fc1e2160>"
      ]
     },
     "execution_count": 26,
     "metadata": {},
     "output_type": "execute_result"
    }
   ],
   "source": [
    "fts = FTS(\n",
    "    index_dir=path_index\n",
    ")\n",
    "fts.initIndex()\n",
    "# fts.openIndex()"
   ]
  },
  {
   "cell_type": "code",
   "execution_count": 27,
   "id": "66014f9b-e3e9-4d67-a45e-387f2fd9aa7f",
   "metadata": {},
   "outputs": [
    {
     "data": {
      "text/plain": [
       "<pkg.fts.FTS at 0x7f87fc1e2160>"
      ]
     },
     "execution_count": 27,
     "metadata": {},
     "output_type": "execute_result"
    }
   ],
   "source": [
    "for i, node in enumerate(tree):\n",
    "    fts.add_document(\n",
    "        id=node.id,\n",
    "        keys=','.join(node.data.keys_with_inherit),\n",
    "        content=node.data.content,\n",
    "    )\n",
    "fts.commit()"
   ]
  }
 ],
 "metadata": {
  "kernelspec": {
   "display_name": "Python 3.9.16 (nlp)",
   "language": "python",
   "name": "nlp"
  },
  "language_info": {
   "codemirror_mode": {
    "name": "ipython",
    "version": 3
   },
   "file_extension": ".py",
   "mimetype": "text/x-python",
   "name": "python",
   "nbconvert_exporter": "python",
   "pygments_lexer": "ipython3",
   "version": "3.9.16"
  }
 },
 "nbformat": 4,
 "nbformat_minor": 5
}
